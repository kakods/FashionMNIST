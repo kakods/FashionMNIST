{
  "nbformat": 4,
  "nbformat_minor": 0,
  "metadata": {
    "colab": {
      "name": "Untitled1.ipynb",
      "version": "0.3.2",
      "provenance": [],
      "include_colab_link": true
    },
    "kernelspec": {
      "name": "python3",
      "display_name": "Python 3"
    }
  },
  "cells": [
    {
      "cell_type": "markdown",
      "metadata": {
        "id": "view-in-github",
        "colab_type": "text"
      },
      "source": [
        "[View in Colaboratory](https://colab.research.google.com/github/kakods/FashionMNIST/blob/master/CNN.ipynb)"
      ]
    },
    {
      "metadata": {
        "id": "dKZslSV6KHwF",
        "colab_type": "code",
        "colab": {}
      },
      "cell_type": "code",
      "source": [
        "import torch\n",
        "import torch.nn as nn\n",
        "import torchvision.transforms as transforms\n",
        "import torchvision.datasets as dsets\n",
        "from torch.autograd import Variable"
      ],
      "execution_count": 0,
      "outputs": []
    },
    {
      "metadata": {
        "id": "hqNHcoTGKjGG",
        "colab_type": "code",
        "colab": {}
      },
      "cell_type": "code",
      "source": [
        "# http://pytorch.org/\n",
        "from os import path\n",
        "from wheel.pep425tags import get_abbr_impl, get_impl_ver, get_abi_tag\n",
        "platform = '{}{}-{}'.format(get_abbr_impl(), get_impl_ver(), get_abi_tag())\n",
        "\n",
        "accelerator = 'cu80' if path.exists('/opt/bin/nvidia-smi') else 'cpu'\n",
        "\n",
        "!pip install -q http://download.pytorch.org/whl/{accelerator}/torch-0.3.0.post4-{platform}-linux_x86_64.whl torchvision\n",
        "import torch"
      ],
      "execution_count": 0,
      "outputs": []
    },
    {
      "metadata": {
        "id": "USTwomRZKb9Z",
        "colab_type": "code",
        "colab": {}
      },
      "cell_type": "code",
      "source": [
        "train_dataset=dsets.FashionMNIST(root='./data',\n",
        "                         train=True,\n",
        "                         transform=transforms.ToTensor(),\n",
        "                         download=True)\n",
        "test_dataset=dsets.FashionMNIST(root='./data',\n",
        "                        train=False,\n",
        "                        transform=transforms.ToTensor())"
      ],
      "execution_count": 0,
      "outputs": []
    },
    {
      "metadata": {
        "id": "BSZO72inK2HQ",
        "colab_type": "code",
        "colab": {}
      },
      "cell_type": "code",
      "source": [
        "batch_size=100\n",
        "n_iters=3000\n",
        "num_epochs=n_iters/(len(train_dataset)/batch_size)\n",
        "num_epochs=int(num_epochs)\n",
        "\n",
        "train_loader=torch.utils.data.DataLoader(dataset=train_dataset,\n",
        "                                   batch_size=batch_size,\n",
        "                                   shuffle=True)\n",
        "test_loader=torch.utils.data.DataLoader(dataset=test_dataset,\n",
        "                                  batch_size=batch_size,\n",
        "                                  shuffle=False)"
      ],
      "execution_count": 0,
      "outputs": []
    },
    {
      "metadata": {
        "id": "29W2qgKeK2C7",
        "colab_type": "code",
        "colab": {}
      },
      "cell_type": "code",
      "source": [
        "class CNNModel(nn.Module):\n",
        "  def __init__(self):\n",
        "    super(CNNModel,self).__init__()\n",
        "    \n",
        "    self.cnn1=nn.Conv2d(in_channels=1,out_channels=16,kernel_size=5,stride=1,padding=2)\n",
        "    self.relu1=nn.ReLU()\n",
        "    \n",
        "    self.maxpool1=nn.MaxPool2d(kernel_size=2)\n",
        "    \n",
        "    self.cnn2=nn.Conv2d(in_channels=16,out_channels=32,kernel_size=5,stride=1,padding=2)\n",
        "    self.relu2=nn.ReLU()\n",
        "    \n",
        "    self.maxpool2=nn.MaxPool2d(kernel_size=2)\n",
        "    self.fc1=nn.Linear(32*7*7,10)\n",
        "    \n",
        "  def forward(self,x):\n",
        "    out=self.cnn1(x)\n",
        "    out=self.relu1(out)\n",
        "    out=self.maxpool1(out)\n",
        "    out=self.cnn2(out)\n",
        "    out=self.relu2(out)\n",
        "    out=self.maxpool2(out)\n",
        "    out=out.view(out.size(0),-1)\n",
        "    out=self.fc1(out)\n",
        "    return out\n",
        "  "
      ],
      "execution_count": 0,
      "outputs": []
    },
    {
      "metadata": {
        "id": "y4eY6-EIM-l5",
        "colab_type": "code",
        "colab": {}
      },
      "cell_type": "code",
      "source": [
        "model=CNNModel()\n",
        "if torch.cuda.is_available():\n",
        "  model.cuda()\n"
      ],
      "execution_count": 0,
      "outputs": []
    },
    {
      "metadata": {
        "id": "ggEuClg4NMI8",
        "colab_type": "code",
        "colab": {}
      },
      "cell_type": "code",
      "source": [
        "criterion=nn.CrossEntropyLoss()"
      ],
      "execution_count": 0,
      "outputs": []
    },
    {
      "metadata": {
        "id": "m4J6qK6GNSVM",
        "colab_type": "code",
        "colab": {}
      },
      "cell_type": "code",
      "source": [
        "learning_rate=0.1\n",
        "optimizer=torch.optim.SGD(model.parameters(),lr=learning_rate)"
      ],
      "execution_count": 0,
      "outputs": []
    },
    {
      "metadata": {
        "id": "t6FM1NKkNXyS",
        "colab_type": "code",
        "colab": {
          "base_uri": "https://localhost:8080/",
          "height": 119
        },
        "outputId": "ffec0fe1-4734-413b-bf27-d775a6466043"
      },
      "cell_type": "code",
      "source": [
        "iter=0\n",
        "for epoch in range(num_epochs):\n",
        "    for i,(images,labels) in enumerate(train_loader):\n",
        "        if torch.cuda.is_available():\n",
        "          images=Variable(images.cuda())\n",
        "          labels=Variable(labels.cuda())\n",
        "        else:\n",
        "          images=Variable(images)\n",
        "          labels=Variable(labels)\n",
        "        \n",
        "        optimizer.zero_grad()\n",
        "        \n",
        "        outputs=model(images)\n",
        "        \n",
        "        loss=criterion(outputs,labels)\n",
        "        \n",
        "        loss.backward()\n",
        "        \n",
        "        optimizer.step()\n",
        "        \n",
        "        iter+=1\n",
        "        \n",
        "        if iter%500==0:\n",
        "            correct=0\n",
        "            total=0\n",
        "            for images,labels in test_loader:\n",
        "                if torch.cuda.is_available():\n",
        "                  images=Variable(images.cuda())\n",
        "                else:\n",
        "                  images=Variable(images)\n",
        "                outputs=model(images)\n",
        "                _, predicted=torch.max(outputs.data,1)\n",
        "                total+=labels.size(0)\n",
        "                \n",
        "                if torch.cuda.is_available():\n",
        "                  correct+=(predicted.cpu()==labels.cpu()).sum()\n",
        "                else:\n",
        "                  correct+=(predicted==labels).sum()\n",
        "            accuracy=100*correct/total\n",
        "            print('Iteration: {}, Loss: {}, Accuracy: {}'.format(iter,loss.data[0],accuracy))"
      ],
      "execution_count": 47,
      "outputs": [
        {
          "output_type": "stream",
          "text": [
            "Iteration: 500, Loss: 0.45950016379356384, Accuracy: 81.97\n",
            "Iteration: 1000, Loss: 0.5141852498054504, Accuracy: 85.93\n",
            "Iteration: 1500, Loss: 0.23450490832328796, Accuracy: 87.39\n",
            "Iteration: 2000, Loss: 0.23029525578022003, Accuracy: 87.59\n",
            "Iteration: 2500, Loss: 0.13793593645095825, Accuracy: 88.31\n",
            "Iteration: 3000, Loss: 0.3300165832042694, Accuracy: 88.86\n"
          ],
          "name": "stdout"
        }
      ]
    },
    {
      "metadata": {
        "id": "eNyuFYhdNbOH",
        "colab_type": "code",
        "colab": {}
      },
      "cell_type": "code",
      "source": [
        ""
      ],
      "execution_count": 0,
      "outputs": []
    }
  ]
}